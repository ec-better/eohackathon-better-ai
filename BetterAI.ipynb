{
 "cells": [
  {
   "cell_type": "code",
   "execution_count": null,
   "metadata": {},
   "outputs": [],
   "source": [
    "'''\n",
    "The steps below have to be done after collection of the data.\n",
    "Input data requirements: 4 bands l2A SEN2 .tif image, RGB+NIR (Band no. 02, 03, 04, 08)\n",
    "The maximum size of the input image depends on your hardware. 4000x4000 should work fine.\n",
    "'''\n",
    "\n",
    "'''\n",
    "##### START OF FIRST STEP #####\n",
    "'''\n",
    "\n",
    "'''\n",
    "This script uses trained Convolutional Neural Network (CNN) model to classify satellite images.\n",
    "Loads model from .h5 file.\n",
    "Outputs classification map (basename + \"_classification.tif\") and probability map (basename + \"_probabilties.tip\").\n",
    "'''\n",
    "\n",
    "# Import classification module from the compiled version of SAFIY2 (.so file)\n",
    "# .so file needs to be located in the current working directory.\n",
    "import classifying\n",
    "\n",
    "'''\n",
    "Arguments for classifying.main()\n",
    "These arguments will be defined by the users.\n",
    "Hints are given in the comments for each argument.\n",
    "Hints should also be given when describing and explaining the exercise.\n",
    "'''\n",
    "\n",
    "# Name of the model you want to classify with, should be the same as for training the model.\n",
    "# Here The provided (pretrained) model is unet. It is the only possible option for the exercise.\n",
    "MODEL_NAME = \"unet\"\n",
    "\n",
    "# Path to the folder with satellite image(s) that will be classified.\n",
    "INPUT_DIR = \"data/01_input\"\n",
    "\n",
    "# The output directory to save results of classification.\n",
    "# Will create subfolder with name same as model name used for classification.\n",
    "OUTPUT_DIR = \"data/01_output\"\n",
    "\n",
    "# Full path to trained model for field segmentation.\n",
    "MODEL_PATH = \"models/model_Aerial_unet_0_128x128_mrg0_lr0.0001_fs12_bs2000_regDropout_NIR_20190910.h5\"\n",
    "\n",
    "# If True tilling mode will be applied for classification, False no tilling.\n",
    "# Tilling is useful when the image to be classified is large. In the context of this exercise, images have reasonable size.\n",
    "TILLING = True\n",
    "\n",
    "# If tilling is True, size of the tile to split image during the classification, else not used.\n",
    "TILE_SIZE = [1000, 1000]\n",
    "\n",
    "# If tilling is True - Size of the overlap between tiles, else not used.\n",
    "# Size plus margin * 2 have to give total of a number that is dividable by 8, for example size 200, margin 27 = 256.\n",
    "MARGIN_SIZE = 12\n",
    "\n",
    "# Number of classes available for segmentation of the image. Must be the same as during the training of the model.\n",
    "N_CLASSES = 3\n",
    "\n",
    "\n",
    "'''\n",
    "Call the main function of classification script, providing arguments defined above.\n",
    "'''\n",
    "classifying.main(MODEL_NAME, INPUT_DIR, OUTPUT_DIR, MODEL_PATH, TILLING, TILE_SIZE, MARGIN_SIZE, N_CLASSES)\n",
    "\n"
   ]
  },
  {
   "cell_type": "code",
   "execution_count": 5,
   "metadata": {},
   "outputs": [
    {
     "name": "stdout",
     "output_type": "stream",
     "text": [
      "Spring barley                                              17894\n",
      "Permanent grass, standard yield                            14699\n",
      "Winter wheat                                               12451\n",
      "Grass with clover/alfalfa, under 50% legumes (rotation)    11374\n",
      "Winter hybrid rye                                           6322\n",
      "                                                           ...  \n",
      "Kentucky bluegrass seed (turfgrass type)                       1\n",
      "Hops                                                           1\n",
      "Japanese quince                                                1\n",
      "Chives                                                         1\n",
      "Closed system                                                  1\n",
      "Name: CropNameEn, Length: 244, dtype: int64\n",
      "2019-11-08 10:08:18-INF[<ipython-input-:       <module>(): 28] 1/26 crops\n",
      "(1, 'Spring barley')\n",
      "2019-11-08 10:08:18-INF[<ipython-input-:       <module>(): 28] 2/26 crops\n",
      "(2, 'Green grain of spring barley')\n",
      "2019-11-08 10:08:18-INF[<ipython-input-:       <module>(): 28] 3/26 crops\n",
      "(3, 'Winter barley')\n",
      "2019-11-08 10:08:18-INF[<ipython-input-:       <module>(): 28] 4/26 crops\n",
      "(4, 'Winter wheat')\n",
      "2019-11-08 10:08:18-INF[<ipython-input-:       <module>(): 28] 5/26 crops\n",
      "(5, 'Silo maize')\n",
      "2019-11-08 10:08:18-INF[<ipython-input-:       <module>(): 28] 6/26 crops\n",
      "(6, 'Grass')\n",
      "2019-11-08 10:08:19-INF[<ipython-input-:       <module>(): 28] 7/26 crops\n",
      "(7, 'Winter hybrid rye')\n",
      "2019-11-08 10:08:19-INF[<ipython-input-:       <module>(): 28] 8/26 crops\n",
      "(8, 'Winter rape')\n",
      "2019-11-08 10:08:19-INF[<ipython-input-:       <module>(): 28] 9/26 crops\n",
      "(6, 'Grass')\n",
      "2019-11-08 10:08:19-INF[<ipython-input-:       <module>(): 28] 10/26 crops\n",
      "(6, 'Grass')\n",
      "2019-11-08 10:08:19-INF[<ipython-input-:       <module>(): 28] 11/26 crops\n",
      "(6, 'Grass')\n",
      "2019-11-08 10:08:19-INF[<ipython-input-:       <module>(): 28] 12/26 crops\n",
      "(6, 'Grass')\n",
      "2019-11-08 10:08:19-INF[<ipython-input-:       <module>(): 28] 13/26 crops\n",
      "(6, 'Grass')\n",
      "2019-11-08 10:08:19-INF[<ipython-input-:       <module>(): 28] 14/26 crops\n",
      "(6, 'Grass')\n",
      "2019-11-08 10:08:19-INF[<ipython-input-:       <module>(): 28] 15/26 crops\n",
      "(9, 'Christmas trees and greenery cuttings on farmland')\n",
      "2019-11-08 10:08:19-INF[<ipython-input-:       <module>(): 28] 16/26 crops\n",
      "(10, 'Spring oats')\n",
      "2019-11-08 10:08:19-INF[<ipython-input-:       <module>(): 28] 17/26 crops\n",
      "(11, 'AECM no set aside, not farmland')\n",
      "2019-11-08 10:08:19-INF[<ipython-input-:       <module>(): 28] 18/26 crops\n",
      "(6, 'Grass')\n",
      "2019-11-08 10:08:19-INF[<ipython-input-:       <module>(): 28] 19/26 crops\n",
      "(6, 'Grass')\n",
      "2019-11-08 10:08:19-INF[<ipython-input-:       <module>(): 28] 20/26 crops\n",
      "(6, 'Grass')\n",
      "2019-11-08 10:08:19-INF[<ipython-input-:       <module>(): 28] 21/26 crops\n",
      "(12, 'Winter rye')\n",
      "2019-11-08 10:08:19-INF[<ipython-input-:       <module>(): 28] 22/26 crops\n",
      "(6, 'Grass')\n",
      "2019-11-08 10:08:19-INF[<ipython-input-:       <module>(): 28] 23/26 crops\n",
      "(6, 'Grass')\n",
      "2019-11-08 10:08:19-INF[<ipython-input-:       <module>(): 28] 24/26 crops\n",
      "(13, 'Potatoes, starch')\n",
      "2019-11-08 10:08:19-INF[<ipython-input-:       <module>(): 28] 25/26 crops\n",
      "(6, 'Grass')\n",
      "2019-11-08 10:08:19-INF[<ipython-input-:       <module>(): 28] 26/26 crops\n",
      "(6, 'Grass')\n",
      "2019-11-08 10:16:33-INF[<ipython-input-:       <module>(): 28] Saved outputs to data/02_output\n"
     ]
    },
    {
     "data": {
      "text/plain": [
       "'\\nSTART OF THIRD STEP\\n'"
      ]
     },
     "execution_count": 5,
     "metadata": {},
     "output_type": "execute_result"
    }
   ],
   "source": [
    "'''\n",
    "Output : a classification map, and a probability map. .tif files. Both at pixel level.\n",
    "These outputs are part of the inputs for the second step.\n",
    "'''\n",
    "\n",
    "'''\n",
    "##### END OF FIRST STEP #####\n",
    "'''\n",
    "'''\n",
    "START OF SECOND STEP\n",
    "'''\n",
    "\n",
    "import extract_crop_mask\n",
    "\n",
    "# Path to crop ground truth mask (shapefile, provided by us in input folders)\n",
    "INPUT_GT_MASK_PATH = 'data/02_input/Fields2019_INTERSECT_S2A_MSIL2A_20190423T104031_N0211_R008_T32VNH_20190423T133421.shp'\n",
    "\n",
    "# Path to the reference image that we want to classify.\n",
    "INPUT_REF_IMG_PATH = \"data/01_input/subset_b8_S2A_MSIL2A_20190423T104031_N0211_R008_T32VNH_20190423T133421_merged.tif\"\n",
    "\n",
    "# Output directory.\n",
    "# Outputs vector mask mask that contains only the crops we are interested to classify. (from INPUT_GT_MASK_PATH)\n",
    "# Outputs \"Interesting_crops.tif\"; rasterized version of the mask, and for the region of interest only.\n",
    "# Creates , \"crop_list.pkl\" file; list of all the interesting crops contained in the ROI.\n",
    "OUTPUT_DIR = 'data/02_output'\n",
    "\n",
    "# Call the main function, providing arguments defined above.\n",
    "extract_crop_mask.main(INPUT_GT_MASK_PATH, INPUT_REF_IMG_PATH, OUTPUT_DIR)\n",
    "\n",
    "'''\n",
    "END OF SECOND STEP\n",
    "'''\n",
    "\n",
    "'''\n",
    "START OF THIRD STEP\n",
    "'''\n"
   ]
  },
  {
   "cell_type": "code",
   "execution_count": 6,
   "metadata": {},
   "outputs": [
    {
     "name": "stdout",
     "output_type": "stream",
     "text": [
      "['subset_b8_S2A_MSIL2A_20190629T103031_N0212_R108_T32VNH_20190629T130516_merged.tif'\n",
      " 'subset_b8_S2A_MSIL2A_20190423T104031_N0211_R008_T32VNH_20190423T133421_merged.tif'\n",
      " 'subset_b8_S2B_MSIL2A_20190418T104029_N0211_R008_T32VNH_20190418T135653_merged.tif'\n",
      " 'subset_b8_S2B_MSIL2A_20190329T104029_N0211_R008_T32VNH_20190329T164503_merged.tif']\n",
      "1000/15007\n",
      "2000/15007\n",
      "3000/15007\n",
      "4000/15007\n",
      "5000/15007\n",
      "6000/15007\n",
      "7000/15007\n",
      "8000/15007\n",
      "9000/15007\n",
      "10000/15007\n",
      "11000/15007\n",
      "12000/15007\n",
      "13000/15007\n",
      "Class 0: 21.3%\n",
      "Class 1: 10.32%\n",
      "Class 2: 0.41%\n",
      "Class 3: 5.28%\n",
      "Class 4: 17.98%\n",
      "Class 5: 1.01%\n",
      "Class 6: 30.39%\n",
      "Class 7: 3.92%\n",
      "Class 8: 6.17%\n",
      "Class 9: 0.48%\n",
      "Class 10: 0.94%\n",
      "Class 11: 0.73%\n",
      "Class 12: 1.04%\n",
      "Class 13: 0.04%\n",
      "2019-11-08 10:25:47-INF[<ipython-input-:       <module>(): 16] Saved outputs to data/03_output\n"
     ]
    },
    {
     "data": {
      "text/plain": [
       "'\\nEND OF THIRD STEP\\n'"
      ]
     },
     "execution_count": 6,
     "metadata": {},
     "output_type": "execute_result"
    }
   ],
   "source": [
    "\n",
    "import prepare_field_data\n",
    "\n",
    "# Input directory that contains time series of Sentinel 2 images (provided by us).\n",
    "INPUT_TS_DIR = \"data/03_input\"\n",
    "\n",
    "# Path to output file \"Interesting_crops.tif\" from step 2.\n",
    "INPUT_RASTER_MASK_PATH = 'data/02_output/Interesting_crops.tif'\n",
    "\n",
    "# Path to field detection classification file (.tif), one of the outputs of step 1. The actual classification should be provided and not the probability map.\n",
    "INPUT_CLASSIF_RASTER_PATH = 'data/01_output/subset_b8_S2A_MSIL2A_20190423T104031_N0211_R008_T32VNH_20190423T133421_merged_model_Aerial_unet_0_128x128_mrg0_lr0_classification.tif'\n",
    "\n",
    "# Output directory for the labelled image, field features and field ground truth files that will be given to the crop classification model.\n",
    "OUTPUT_DIR = 'data/03_output'\n",
    "\n",
    "# Call the main function, providing arguments defined above.\n",
    "prepare_field_data.main(INPUT_TS_DIR, INPUT_RASTER_MASK_PATH, INPUT_CLASSIF_RASTER_PATH, OUTPUT_DIR)\n",
    "\n",
    "'''\n",
    "END OF THIRD STEP\n",
    "'''\n"
   ]
  },
  {
   "cell_type": "code",
   "execution_count": 7,
   "metadata": {},
   "outputs": [
    {
     "name": "stdout",
     "output_type": "stream",
     "text": [
      "Model 3.h5 already exists, loading weights and retraining with new training dataset\n",
      "2019-11-08 10:27:17-INF[<ipython-input-:       <module>(): 23] Saved outputs to data/04_output\n"
     ]
    },
    {
     "data": {
      "image/png": "[encoded data removed]",
      "text/plain": [
       "<Figure size 432x288 with 2 Axes>"
      ]
     },
     "metadata": {
      "needs_background": "light"
     },
     "output_type": "display_data"
    },
    {
     "data": {
      "text/plain": [
       "'\\nEND OF FOURTH STEP\\n'"
      ]
     },
     "execution_count": 7,
     "metadata": {},
     "output_type": "execute_result"
    }
   ],
   "source": [
    "\n",
    "'''\n",
    "START OF FOURTH STEP\n",
    "'''\n",
    "\n",
    "import analyse_results\n",
    "\n",
    "# Full path to trained model for crop classification.\n",
    "CROPS_MODEL_PATH = 'models/3.h5'\n",
    "\n",
    "# Path to field feature file (ouput of step 4).\n",
    "INPUT_FIELD_FEATURES_PATH = 'data/03_output/field_features.pkl'\n",
    "\n",
    "# Path to field labels file (ouput of step 4).\n",
    "INPUT_FIELD_LABELS_PATH = 'data/03_output/field_labels.pkl'\n",
    "\n",
    "# Path to crop list file (ouput of step 3).\n",
    "INPUT_CROP_LIST_PATH = 'data/02_output/crop_list.pkl'\n",
    "\n",
    "# Output directory for the classification result file.\n",
    "OUTPUT_FIELD_PREDICTION_DIR = 'data/04_output'\n",
    "\n",
    "# Call the main function, providing arguments defined above.\n",
    "analyse_results.main(CROPS_MODEL_PATH, INPUT_FIELD_FEATURES_PATH, INPUT_FIELD_LABELS_PATH, INPUT_CROP_LIST_PATH, OUTPUT_FIELD_PREDICTION_DIR)\n",
    "\n",
    "'''\n",
    "END OF FOURTH STEP\n",
    "'''\n",
    "\n"
   ]
  },
  {
   "cell_type": "code",
   "execution_count": 12,
   "metadata": {},
   "outputs": [
    {
     "name": "stdout",
     "output_type": "stream",
     "text": [
      "1000/15007\n",
      "2000/15007\n",
      "3000/15007\n",
      "4000/15007\n",
      "5000/15007\n",
      "6000/15007\n",
      "7000/15007\n",
      "8000/15007\n",
      "9000/15007\n",
      "10000/15007\n",
      "11000/15007\n",
      "12000/15007\n",
      "13000/15007\n",
      "2019-11-08 10:28:48-INF[<ipython-input-:       <module>(): 23] Saved result image to data/05_output\n"
     ]
    },
    {
     "data": {
      "text/plain": [
       "'\\nEND OF SIXTH STEP\\n'"
      ]
     },
     "execution_count": 12,
     "metadata": {},
     "output_type": "execute_result"
    }
   ],
   "source": [
    "\n",
    "'''\n",
    "START OF FIFTH STEP\n",
    "'''\n",
    "\n",
    "import prepare_field_output\n",
    "\n",
    "# Path to the original image that we have classified.\n",
    "INPUT_REF_IMG_PATH = 'data/01_input/subset_b8_S2A_MSIL2A_20190423T104031_N0211_R008_T32VNH_20190423T133421_merged.tif'\n",
    "\n",
    "# Path to output file \"Interesting_crops.tif\" from step 2.\n",
    "INPUT_RASTER_MASK_PATH = 'data/02_output/Interesting_crops.tif'\n",
    "\n",
    "# Path to output \"field_predictions.pkl\" file from step 4.\n",
    "INPUT_FIELD_PREDICTION_PATH = 'data/04_output/field_predictions.pkl'\n",
    "\n",
    "# Path to output labelled image (labelled_im.pkl) from step 3.\n",
    "INPUT_LABELLED_RASTER_PATH = 'data/03_output/labelled_im.pkl'\n",
    "\n",
    "# Output directory for the final crop classification image.\n",
    "OUTPUT_CROP_CLASSIFICATION_DIR = 'data/05_output'\n",
    "\n",
    "# Call the main function, providing arguments defined above.\n",
    "prepare_field_output.main(INPUT_REF_IMG_PATH, INPUT_RASTER_MASK_PATH, INPUT_FIELD_PREDICTION_PATH, INPUT_LABELLED_RASTER_PATH, OUTPUT_CROP_CLASSIFICATION_DIR)\n",
    "\n",
    "'''\n",
    "END OF FIFTH STEP\n",
    "'''\n"
   ]
  },
  {
   "cell_type": "code",
   "execution_count": null,
   "metadata": {},
   "outputs": [],
   "source": []
  }
 ],
 "metadata": {
  "kernelspec": {
   "display_name": "Python [conda env:Better_AI]",
   "language": "python",
   "name": "conda-env-Better_AI-py"
  },
  "language_info": {
   "codemirror_mode": {
    "name": "ipython",
    "version": 3
   },
   "file_extension": ".py",
   "mimetype": "text/x-python",
   "name": "python",
   "nbconvert_exporter": "python",
   "pygments_lexer": "ipython3",
   "version": "3.6.5"
  }
 },
 "nbformat": 4,
 "nbformat_minor": 2
}
